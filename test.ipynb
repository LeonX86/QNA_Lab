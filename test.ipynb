{
 "cells": [
  {
   "cell_type": "code",
   "metadata": {
    "ExecuteTime": {
     "end_time": "2025-03-28T09:26:19.434883Z",
     "start_time": "2025-03-28T09:26:19.424887Z"
    }
   },
   "source": [
    "import requests",
    "import json",
    "",
    "def get_ollama_response(prompt, model='llama2'):",
    "    # Ollama API端点",
    "    url = 'http://127.0.0.1:11434/api/generate'",
    "    ",
    "    # 准备请求数据",
    "    data = {",
    "        'model': model,",
    "        'prompt': prompt,",
    "        'stream': False  # 设置为False以获取完整响应",
    "    }",
    "    ",
    "    try:",
    "        # 发送POST请求",
    "        response = requests.post(url, json=data)",
    "        response.raise_for_status()  # 检查请求是否成功",
    "        ",
    "        # 解析响应",
    "        result = response.json()",
    "        return result['response']",
    "        ",
    "    except requests.exceptions.RequestException as e:",
    "        print(f'请求错误: {e}')",
    "        return None",
    "    except json.JSONDecodeError as e:",
    "        print(f'JSON解析错误: {e}')",
    "        return None",
    "",
    "# 使用示例",
    "prompt = '你好，请介绍一下你自己'",
    "response = get_ollama_response(prompt)",
    "if response:",
    "    print('模型回复:', response)"
   ],
   "id": "3475c43568dbcd68",
   "outputs": [
    {
     "ename": "SyntaxError",
     "evalue": "invalid syntax (3116934049.py, line 1)",
     "output_type": "error",
     "traceback": [
      "  \u001B[36mCell\u001B[39m\u001B[36m \u001B[39m\u001B[32mIn[1]\u001B[39m\u001B[32m, line 1\u001B[39m\n\u001B[31m    \u001B[39m\u001B[31mimport requestsimport jsondef get_ollama_response(prompt, model='llama2'):    # Ollama API端点    url = 'http://127.0.0.1:11434/api/generate'        # 准备请求数据    data = {        'model': model,        'prompt': prompt,        'stream': False  # 设置为False以获取完整响应    }        try:        # 发送POST请求        response = requests.post(url, json=data)        response.raise_for_status()  # 检查请求是否成功                # 解析响应        result = response.json()        return result['response']            except requests.exceptions.RequestException as e:        print(f'请求错误: {e}')        return None    except json.JSONDecodeError as e:        print(f'JSON解析错误: {e}')        return None# 使用示例prompt = '你好，请介绍一下你自己'response = get_ollama_response(prompt)if response:    print('模型回复:', response)\u001B[39m\n                          ^\n\u001B[31mSyntaxError\u001B[39m\u001B[31m:\u001B[39m invalid syntax\n"
     ]
    }
   ],
   "execution_count": 1
  },
  {
   "metadata": {},
   "cell_type": "code",
   "outputs": [],
   "execution_count": null,
   "source": "",
   "id": "bc59decf09e950b1"
  }
 ],
 "metadata": {
  "kernelspec": {
   "name": "python3",
   "language": "python",
   "display_name": "Python 3 (ipykernel)"
  }
 }
}
